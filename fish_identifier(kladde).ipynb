{
 "cells": [
  {
   "cell_type": "code",
   "execution_count": null,
   "metadata": {
    "pycharm": {
     "name": "#%%\n"
    }
   },
   "outputs": [],
   "source": [
    "import cv2 as cv\n",
    "import numpy as np\n",
    "import matplotlib.pyplot as plt\n",
    "from tensorflow.keras import layers, models\n",
    "import modules.image_importer as ii\n",
    "import modules.prepare_images as reform\n"
   ]
  },
  {
   "cell_type": "code",
   "execution_count": null,
   "metadata": {
    "pycharm": {
     "name": "#%%\n"
    }
   },
   "outputs": [],
   "source": [
    "paths_images_training = ii.image_paths(\"fish_images/copy_fish_images\")"
   ]
  },
  {
   "cell_type": "code",
   "execution_count": null,
   "metadata": {
    "pycharm": {
     "name": "#%%\n"
    }
   },
   "outputs": [],
   "source": [
    "##TODO - vurdér om du skal have dette med Cathrine!!!!!!!!!!!!!!!!!!!!!!\n",
    "\n",
    "img_loc = './fish_images/Aborre 1.png'\n",
    "# 1\n",
    "img = cv.imread(img_loc, cv.IMREAD_UNCHANGED)\n",
    "print(img.shape)\n",
    "# 2\n",
    "img_grey = cv.cvtColor(img,cv.COLOR_BGR2GRAY)\n",
    "print(img_grey.shape)\n",
    "# 3\n",
    "thresh = 90 # the lower the threshhold the more details we get\n",
    "ret,thresh_img = cv.threshold(img_grey, thresh, 255, cv.THRESH_BINARY)\n",
    "# 4\n",
    "contours, hierarchy = cv.findContours(thresh_img, cv.RETR_TREE, cv.CHAIN_APPROX_SIMPLE)\n",
    "#create an empty image for contours\n",
    "img_contours = np.zeros(img.shape)\n",
    "# draw the contours on the empty image\n",
    "cv.drawContours(img_contours, contours, -1, (255,255,255), 3)\n",
    "#save image\n",
    "cv.imwrite('./object_detection/input/test_conture.png',img_contours) \n",
    "plt.imshow(img_contours, interpolation='none')"
   ]
  },
  {
   "cell_type": "code",
   "execution_count": null,
   "metadata": {
    "pycharm": {
     "name": "#%%\n"
    }
   },
   "outputs": [],
   "source": [
    "import requests\n",
    "import bs4\n",
    "import url_fish as fish\n",
    "\n",
    "\"\"\"The xml-file url is not allowed to go on public online\"\"\"\n",
    "xml_file_url = fish.get_fish_xml()\n",
    "\n",
    "def get_spicies(xml_file):\n",
    "    r = requests.get(xml_file)\n",
    "    if r.status_code == 200:\n",
    "        soup = bs4.BeautifulSoup(r.content, 'xml')\n",
    "        spiecies_tag = soup.findAll('navn')\n",
    "        return[spiecies.text for spiecies in spiecies_tag]\n",
    "    \n",
    "spiecies = get_spicies(xml_file_url)"
   ]
  },
  {
   "cell_type": "code",
   "execution_count": null,
   "metadata": {
    "pycharm": {
     "name": "#%%\n"
    }
   },
   "outputs": [],
   "source": [
    "import os\n",
    "\n",
    "img_size = 50\n",
    "def get_data(images_dir):\n",
    "    images = [] \n",
    "    for label in spiecies: \n",
    "        for img in os.listdir(images_dir):\n",
    "            if (label in img):\n",
    "                class_num = spiecies.index(label)\n",
    "                try:\n",
    "                    img_arr = cv.imread(os.path.join(images_dir, img))\n",
    "                    resized_image = reform.resizing_image_squared(os.path.join(images_dir, img), img_size)\n",
    "                    images.append([resized_image, class_num])\n",
    "                except Exception as e:\n",
    "                    print(e)\n",
    "    return np.array(images)\n",
    "\n",
    "training_imgs = get_data(\"./fish_images/copy_fish_images\")\n",
    "print(\"ok\")"
   ]
  },
  {
   "cell_type": "code",
   "execution_count": null,
   "metadata": {
    "pycharm": {
     "name": "#%%\n"
    }
   },
   "outputs": [],
   "source": [
    "##Kladde bliver ikke\n",
    "import seaborn as sns\n",
    "\n",
    "print(len(training_imgs))\n",
    "\n",
    "lst = []\n",
    "for i in training_imgs:\n",
    "    if(i[1] == 0):\n",
    "        lst.append(spiecies[0])\n",
    "    elif (i[2] == 0):\n",
    "        lst.append(spiecies[1])\n",
    "    elif (i[3] == 0):\n",
    "        lst.append(spiecies[2])\n",
    "    elif (i[4] == 0):\n",
    "        lst.append(spiecies[3])\n",
    "    elif (i[5] == 0):\n",
    "        lst.append(spiecies[4])\n",
    "    elif (i[6] == 0):\n",
    "        lst.append(spiecies[5])\n",
    "    elif (i[7] == 0):\n",
    "        lst.append(spiecies[6])\n",
    "    elif (i[8] == 0):\n",
    "        lst.append(spiecies[7])\n",
    "    elif (i[9] == 0):\n",
    "        lst.append(spiecies[8])\n",
    "    elif (i[10] == 0):\n",
    "        lst.append(spiecies[9])\n",
    "    else:\n",
    "        lst.append(\"No fish\")\n",
    "sns.set_style('darkgrid')\n",
    "sns.countplot(l)"
   ]
  },
  {
   "cell_type": "code",
   "execution_count": null,
   "metadata": {
    "pycharm": {
     "name": "#%%\n"
    }
   },
   "outputs": [],
   "source": [
    "import keras\n",
    "from keras.models import Sequential\n",
    "from keras.layers import Dense, Conv2D , MaxPool2D , Flatten , Dropout \n",
    "from keras.preprocessing.image import ImageDataGenerator\n",
    "from keras.optimizers import Adam\n",
    "\n",
    "from sklearn.metrics import classification_report,confusion_matrix\n",
    "\n",
    "import tensorflow as tf"
   ]
  },
  {
   "cell_type": "code",
   "execution_count": null,
   "metadata": {
    "pycharm": {
     "name": "#%%\n"
    }
   },
   "outputs": [],
   "source": [
    "print(len(paths_images_training))\n",
    "for image_path in paths_images_training:\n",
    "    resized_image = reform.resizing_image_squared(image_path, 50)\n",
    "    image_title = image_path.replace(\"fish_images/copy_fish_images/\",\"\")\n",
    "    image_name = image_title.replace(\".png\",\"\")\n",
    "    print(image_name)\n",
    "    plt.imshow(resized_image, cmap=plt.cm.binary)\n",
    "    #ii.saving_image(\"fish_images/training_images\",resized_image,image_name)"
   ]
  }
 ],
 "metadata": {
  "kernelspec": {
   "display_name": "Python 3",
   "language": "python",
   "name": "python3"
  },
  "language_info": {
   "codemirror_mode": {
    "name": "ipython",
    "version": 3
   },
   "file_extension": ".py",
   "mimetype": "text/x-python",
   "name": "python",
   "nbconvert_exporter": "python",
   "pygments_lexer": "ipython3",
   "version": "3.7.6"
  }
 },
 "nbformat": 4,
 "nbformat_minor": 4
}
