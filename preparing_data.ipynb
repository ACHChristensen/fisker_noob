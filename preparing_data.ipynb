{
 "cells": [
  {
   "cell_type": "code",
   "execution_count": null,
   "metadata": {
    "pycharm": {
     "name": "#%%\n"
    }
   },
   "outputs": [],
   "source": [
    "from modules import prepare_images as reshape\n",
    "import os\n",
    "import cv2\n",
    "\n",
    "path_images = os.path.join('fish_images','training_images','images_copy')\n",
    "\n",
    "for image in os.listdir(path_images):\n",
    "    if (image.endswith('.png')):\n",
    "        print(str(path_images)+'\\\\'+str(image))\n",
    "        image_100 = reshape.resizing_image_squared(str(path_images)+'\\\\'+str(image),100)\n",
    "        cv2.imwrite(os.path.join(path_images,'size_100_images')+'\\\\100PX_'+image, cv2.cvtColor(image_100,cv2.COLOR_BGR2RGB))\n",
    "        "
   ]
  }
 ],
 "metadata": {
  "interpreter": {
   "hash": "2a9f36fe1f10f3ed60118942f73e2a76d1614c4e6c0e15697e2626bb8b68a95e"
  },
  "kernelspec": {
   "display_name": "Python 3.9.12 ('base')",
   "language": "python",
   "name": "python3"
  },
  "language_info": {
   "codemirror_mode": {
    "name": "ipython",
    "version": 3
   },
   "file_extension": ".py",
   "mimetype": "text/x-python",
   "name": "python",
   "nbconvert_exporter": "python",
   "pygments_lexer": "ipython3",
   "version": "3.9.12"
  }
 },
 "nbformat": 4,
 "nbformat_minor": 4
}
