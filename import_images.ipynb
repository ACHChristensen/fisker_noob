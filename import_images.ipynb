{
 "cells": [
  {
   "cell_type": "code",
   "execution_count": null,
   "metadata": {
    "pycharm": {
     "name": "#%%\n"
    }
   },
   "outputs": [],
   "source": [
    "import os\n",
    "\n",
    "\"\"\"The xml-file url is not allowed to go on public\"\"\"\n",
    "import url_fish as fish\n",
    "\n",
    "xml_file_url = fish.get_fish_xml()\n",
    "print(str(xml_file_url))"
   ]
  },
  {
   "cell_type": "code",
   "execution_count": null,
   "metadata": {
    "pycharm": {
     "name": "#%%\n"
    }
   },
   "outputs": [],
   "source": [
    "import modules.image_importer as img_h\n",
    "\n",
    "fish_items = img_h.loading_items(str(xml_file_url))\n",
    "print(fish_items[0].prettify())"
   ]
  },
  {
   "cell_type": "code",
   "execution_count": null,
   "metadata": {
    "pycharm": {
     "name": "#%%\n"
    }
   },
   "outputs": [],
   "source": [
    "#Local folder\n",
    "local_directory = './fish_images/'\n",
    "\n",
    "for item in fish_items:\n",
    "    img_h.loading_images(item, local_directory)"
   ]
  },
  {
   "cell_type": "code",
   "execution_count": null,
   "metadata": {
    "pycharm": {
     "name": "#%%\n"
    }
   },
   "outputs": [],
   "source": [
    "\"\"\"More pictures is needed so we use this image_generator to give more data for the project \n",
    "- the images is similar to orginal but is reshaped\"\"\"\n",
    "import modules.image_generator as img_g\n",
    "import os\n",
    "\n",
    "sub_local_directory = './fish_images/training_images/images_copy'\n",
    "local_directory = './fish_images/training_images/Makrel_test'\n",
    "print()\n",
    "for image in os.listdir(os.path.join(local_directory)):#glob.glob(local_directory+ '*.png'):\n",
    "    if (image.endswith('jpg') or image.endswith('jpeg') or image.endswith('png')):\n",
    "        img_g.image_mulitplier(os.path.join(local_directory,image),image,sub_local_directory,20)"
   ]
  }
 ],
 "metadata": {
  "kernelspec": {
   "display_name": "Python 3",
   "language": "python",
   "name": "python3"
  },
  "language_info": {
   "codemirror_mode": {
    "name": "ipython",
    "version": 3
   },
   "file_extension": ".py",
   "mimetype": "text/x-python",
   "name": "python",
   "nbconvert_exporter": "python",
   "pygments_lexer": "ipython3",
   "version": "3.7.6"
  }
 },
 "nbformat": 4,
 "nbformat_minor": 2
}
