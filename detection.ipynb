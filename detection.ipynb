{
 "cells": [
  {
   "cell_type": "code",
   "execution_count": null,
   "metadata": {
    "pycharm": {
     "name": "#%%\n"
    }
   },
   "outputs": [],
   "source": [
    "import url_fish as fish\n",
    "import requests\n",
    "import bs4"
   ]
  },
  {
   "cell_type": "code",
   "execution_count": null,
   "metadata": {
    "pycharm": {
     "name": "#%%\n"
    }
   },
   "outputs": [],
   "source": [
    "xml_file_url = fish.get_fish_xml()\n",
    "\n",
    "def get_spicies(xml_file):\n",
    "    r = requests.get(xml_file)\n",
    "    if r.status_code == 200:\n",
    "        soup = bs4.BeautifulSoup(r.content, 'xml')\n",
    "        spiecies_tag = soup.findAll('navn')\n",
    "        return[spiecies.text for spiecies in spiecies_tag]\n",
    "    \n",
    "fish_labels = get_spicies(xml_file_url)\n",
    "\n",
    "print(fish_labels)\n"
   ]
  },
  {
   "cell_type": "code",
   "execution_count": null,
   "metadata": {
    "pycharm": {
     "name": "#%%\n"
    }
   },
   "outputs": [],
   "source": [
    "import matplotlib.pyplot as plt\n",
    "import cv2 as cv\n",
    "\n",
    "cam = cv.VideoCapture(0)\n",
    "\n",
    "while(cam.isOpened()):\n",
    "    x, frame = cam.read()\n",
    "    cv.imshow('frame', frame)\n",
    "    plt.imshow(cv.cvtColor(frame, cv.COLOR_BGR2RGB))\n",
    "    if cv.waitKey(1) & 0xFF == ord('q'):\n",
    "        break\n",
    "\n",
    "cam.release()\n",
    "cv.destroyAllWindows()\n"
   ]
  },
  {
   "cell_type": "code",
   "execution_count": null,
   "metadata": {
    "pycharm": {
     "name": "#%%\n"
    }
   },
   "outputs": [],
   "source": [
    "\"\"\"labeling data images\"\"\"\n",
    "!cd ../labelImg && python labelImg.py"
   ]
  },
  {
   "cell_type": "code",
   "execution_count": null,
   "metadata": {
    "pycharm": {
     "name": "#%%\n"
    }
   },
   "outputs": [],
   "source": [
    "MODEL_NAME = 'my_fish_model'\n",
    "PRETRAINED_MODEL = 'ssd_mobilenet_v2_fpnlite_320x320_coco17_tpu-8'\n",
    "PRETRAINED_MODEL_URL = 'http://download.tensorflow.org/models/object_detection/tf2/20200711/ssd_mobilenet_v2_fpnlite_320x320_coco17_tpu-8.tar.gz'\n",
    "TF_RECORD_SCRIPT_NAME = 'generate_tfrecord.py'\n",
    "LABEL_MAP_NAME = 'label_map.pbtxt'"
   ]
  },
  {
   "cell_type": "code",
   "execution_count": null,
   "metadata": {
    "pycharm": {
     "name": "#%%\n"
    }
   },
   "outputs": [],
   "source": [
    "import os\n",
    "\n",
    "paths = {\n",
    "'CHECKPOINT_PATH': os.path.join('fish_images','training_images','images_copy','size_100_images'),\n",
    "'OUTPUT_PATH': os.path.join('fish_images','training_images','images_copy','size_100_images', 'export'),\n",
    "'TFJS_PATH':os.path.join('fish_images','training_images','images_copy','size_100_images', 'tfjsexport'),\n",
    "'TFLITE_PATH':os.path.join('fish_images','training_images','images_copy','size_100_images', 'tfliteexport'),\n",
    "'SCRIPTS': os.path.join('Scripts'),\n",
    "'ANNOTATIONS': os.path.join('Annotations'),\n",
    "'PROTOC': os.path.join('Protoc'),\n",
    "'PRETRAINED_MODEL_PATH':os.path.join('Pre_model_trained')\n",
    "}\n",
    "\n",
    "files = {\n",
    "    'PIPELINE_CONFIG':os.path.join('fish_images','training_images','images_copy','size_100_images','pipeline.config'),\n",
    "    'TF_RECORD_SCRIPT': os.path.join('Scripts','GenerateTFRecord', TF_RECORD_SCRIPT_NAME),\n",
    "    'LABELMAP': os.path.join('Annotations', LABEL_MAP_NAME)\n",
    "}"
   ]
  },
  {
   "cell_type": "code",
   "execution_count": null,
   "metadata": {
    "pycharm": {
     "name": "#%%\n"
    }
   },
   "outputs": [],
   "source": [
    "for path in paths.values():\n",
    "    print(os.getcwd())\n",
    "    if not os.path.exists(path):\n",
    "        print(path)\n",
    "        !mkdir {path}"
   ]
  },
  {
   "cell_type": "code",
   "execution_count": null,
   "metadata": {
    "pycharm": {
     "name": "#%%\n"
    }
   },
   "outputs": [],
   "source": [
    "#!pip install wget\n",
    "import wget\n",
    "\n",
    "url=\"https://github.com/protocolbuffers/protobuf/releases/download/v3.15.6/protoc-3.15.6-win64.zip\"\n",
    "wget.download(url)\n",
    "!move protoc-3.15.6-win64.zip {paths['PROTOC']}\n",
    "!cd {paths['PROTOC']} && tar -xf protoc-3.15.6-win64.zip\n",
    "os.environ['PATH'] += os.pathsep + os.path.abspath(os.path.join(paths['PROTOC'], 'bin'))\n",
    "!cd TF/Models/models/research && protoc object_detection/protos/*.proto --python_out=. && copy object_detection\\\\packages\\\\tf2\\\\setup.py setup.py && python setup.py build && python setup.py install\n",
    "!cd TF/Models/models/research/slim && pip install -e ."
   ]
  },
  {
   "cell_type": "code",
   "execution_count": null,
   "metadata": {
    "pycharm": {
     "name": "#%%\n"
    }
   },
   "outputs": [],
   "source": [
    "wget.download(PRETRAINED_MODEL_URL)\n",
    "!move {PRETRAINED_MODEL+'.tar.gz'} {paths['PRETRAINED_MODEL_PATH']}\n",
    "!cd {paths['PRETRAINED_MODEL_PATH']} && tar -zxvf {PRETRAINED_MODEL+'.tar.gz'}"
   ]
  },
  {
   "cell_type": "code",
   "execution_count": null,
   "metadata": {
    "pycharm": {
     "name": "#%%\n"
    }
   },
   "outputs": [],
   "source": [
    "labels_mapped = [{'name':'Makrel', 'id':1}]\n",
    "\n",
    "with open(files['LABELMAP'], 'w') as f:\n",
    "    for label in labels_mapped:\n",
    "        f.write('item { \\n')\n",
    "        f.write('\\tname:\\'{}\\'\\n'.format(label['name']))\n",
    "        f.write('\\tid:{}\\n'.format(label['id']))\n",
    "        f.write('}\\n')"
   ]
  },
  {
   "cell_type": "code",
   "execution_count": null,
   "metadata": {
    "pycharm": {
     "name": "#%%\n"
    }
   },
   "outputs": [],
   "source": [
    "#python {files['TF_RECORD_SCRIPT']} -x {os.path.join('fish_images', 'training_images')} -l {files['LABELMAP']} -o {os.path.join(paths['ANNOTATIONS'], 'train.record')}\n",
    "#!python {files['TF_RECORD_SCRIPT']} -x {os.path.join('fish_images', 'test_images')} -l {files['LABELMAP']} -o {os.path.join(paths['ANNOTATIONS'], 'test.record')}\n",
    "\n",
    "from Scripts.GenerateTFRecord import generate_tfrecord as tfr\n",
    "\n",
    "tfr.main_cath(xml_dir=os.path.join('fish_images', 'training_images', 'images_copy','size_100_images'), labels_path=files['LABELMAP'], output_path=os.path.join(paths['ANNOTATIONS'], 'train.record'))\n",
    "tfr.main_cath(xml_dir=os.path.join('fish_images', 'test_images'), labels_path=files['LABELMAP'], output_path=os.path.join(paths['ANNOTATIONS'], 'test.record'))"
   ]
  },
  {
   "cell_type": "code",
   "execution_count": null,
   "metadata": {
    "pycharm": {
     "name": "#%%\n"
    }
   },
   "outputs": [],
   "source": [
    "#\"!copy {os.path.join('Pre_model_trained', PRETRAINED_MODEL, 'pipeline.config')} {os.path.join(path['CHECKPOINT_PATH'])}"
   ]
  },
  {
   "cell_type": "code",
   "execution_count": null,
   "metadata": {
    "pycharm": {
     "name": "#%%\n"
    }
   },
   "outputs": [],
   "source": [
    "from TF.Models.models.research.object_detection.utils import config_util\n",
    "from TF.Models.models.research.object_detection.protos import pipeline_pb2\n",
    "from google.protobuf import text_format\n",
    "import tensorflow as tf\n",
    "\n",
    "config = config_util.get_configs_from_pipeline_file(files['PIPELINE_CONFIG'])\n",
    "\n",
    "pipeline_config = pipeline_pb2.TrainEvalPipelineConfig()\n",
    "with tf.io.gfile.GFile(files['PIPELINE_CONFIG'], \"r\") as f:\n",
    "    proto_str = f.read()\n",
    "    text_format.Merge(proto_str, pipeline_config)"
   ]
  },
  {
   "cell_type": "code",
   "execution_count": null,
   "metadata": {
    "pycharm": {
     "name": "#%%\n"
    }
   },
   "outputs": [],
   "source": [
    "batch_size = 0\n",
    "for image in os.listdir(os.path.join('fish_images','training_images','images_copy','size_100_images')):\n",
    "    if image.endswith('.xml'):\n",
    "        batch_size = batch_size + 1\n",
    "\n",
    "print(batch_size)\n",
    "\n",
    "pipeline_config.model.ssd.num_classes = 1 #TODO - len(fish_spiecies)\n",
    "pipeline_config.train_config.batch_size = batch_size\n",
    "pipeline_config.train_config.fine_tune_checkpoint = os.path.join(paths['PRETRAINED_MODEL_PATH'], PRETRAINED_MODEL, 'checkpoint', 'ckpt-0')\n",
    "pipeline_config.train_config.fine_tune_checkpoint_type = \"detection\"\n",
    "pipeline_config.train_input_reader.label_map_path= files['LABELMAP']\n",
    "pipeline_config.train_input_reader.tf_record_input_reader.input_path[:] = [os.path.join(paths['ANNOTATIONS'], 'train.record')]\n",
    "pipeline_config.eval_input_reader[0].label_map_path = files['LABELMAP']\n",
    "pipeline_config.eval_input_reader[0].tf_record_input_reader.input_path[:] = [os.path.join(paths['ANNOTATIONS'], 'test.record')]"
   ]
  },
  {
   "cell_type": "code",
   "execution_count": null,
   "metadata": {
    "pycharm": {
     "name": "#%%\n"
    }
   },
   "outputs": [],
   "source": [
    "config_text = text_format.MessageToString(pipeline_config)\n",
    "with tf.io.gfile.GFile(files['PIPELINE_CONFIG'], \"wb\") as f:\n",
    "    f.write(config_text)"
   ]
  },
  {
   "cell_type": "code",
   "execution_count": null,
   "metadata": {
    "pycharm": {
     "name": "#%%\n"
    }
   },
   "outputs": [],
   "source": [
    "#TF_TRAINING_SCRIPT = os.path.join('TF','Models','models', 'research', 'object_detection', 'model_main_tf2.py')"
   ]
  },
  {
   "cell_type": "code",
   "execution_count": null,
   "metadata": {
    "pycharm": {
     "name": "#%%\n"
    }
   },
   "outputs": [],
   "source": [
    "#steps_command = \"python {} --model_dir={} --pipeline_config_path={} --num_train_steps={}\".format(TF_TRAINING_SCRIPT, os.path.join('fish_images','training_images', 'images_copy', 'size_100_images') ,files['PIPELINE_CONFIG'], 100)"
   ]
  },
  {
   "cell_type": "code",
   "execution_count": null,
   "metadata": {
    "pycharm": {
     "name": "#%%\n"
    }
   },
   "outputs": [],
   "source": [
    "#!{steps_command}"
   ]
  },
  {
   "cell_type": "code",
   "execution_count": null,
   "metadata": {
    "pycharm": {
     "is_executing": true,
     "name": "#%%\n"
    }
   },
   "outputs": [],
   "source": [
    "#Instead of terminal-use\n",
    "import TF.Models.models.research.object_detection.caths_model_tf2 as cath_model\n",
    "\n",
    "'''Steps can be adjust'''\n",
    "qnty_steps=3000\n",
    "cath_model.main_model_cath(model_dir=os.path.join(paths['CHECKPOINT_PATH']),pipeline_config_path= os.path.join('fish_images','training_images','images_copy','size_100_images','pipeline.config'), train_steps=qnty_steps)"
   ]
  },
  {
   "cell_type": "code",
   "execution_count": null,
   "metadata": {
    "pycharm": {
     "name": "#%%\n"
    }
   },
   "outputs": [],
   "source": [
    "#command_validation = \"python {} --model_dir={} --pipeline_config_path={} --checkpoint_dir={}\".format(TF_TRAINING_SCRIPT,os.path.join('fish_images','training_images','test_model_to_cath') ,files['PIPELINE_CONFIG'], os.path.join('fish_images','training_images') )\n",
    "\n"
   ]
  },
  {
   "cell_type": "code",
   "execution_count": null,
   "metadata": {
    "pycharm": {
     "name": "#%%\n"
    }
   },
   "outputs": [],
   "source": [
    "#!{command_validation}"
   ]
  },
  {
   "cell_type": "code",
   "execution_count": null,
   "metadata": {
    "pycharm": {
     "name": "#%%\n"
    }
   },
   "outputs": [],
   "source": [
    "import TF.Models.models.research.object_detection.caths_model_tf2 as cath_model\n",
    "\n",
    "cath_model.main_model_cath(model_dir=os.path.join('fish_images','training_images','images_copy', 'size_100_images'),pipeline_config_path= files['PIPELINE_CONFIG'], checkpoint_dir=os.path.join('fish_images','training_images','images_copy', 'size_100_images'))"
   ]
  },
  {
   "cell_type": "code",
   "execution_count": null,
   "metadata": {
    "pycharm": {
     "name": "#%%\n"
    }
   },
   "outputs": [],
   "source": [
    "import os\n",
    "import tensorflow as tf\n",
    "from TF.Models.models.research.object_detection.utils import label_map_util\n",
    "from TF.Models.models.research.object_detection.utils import visualization_utils as viz_utils\n",
    "from TF.Models.models.research.object_detection.builders import model_builder\n",
    "from TF.Models.models.research.object_detection.utils import config_util"
   ]
  },
  {
   "cell_type": "code",
   "execution_count": null,
   "metadata": {
    "pycharm": {
     "name": "#%%\n"
    }
   },
   "outputs": [],
   "source": [
    "# Load pipeline config and build a detection model\n",
    "configs = config_util.get_configs_from_pipeline_file(files['PIPELINE_CONFIG'])\n",
    "fish_model = model_builder.build(model_config=configs['model'], is_training=False)\n",
    "\n",
    "# Restore checkpoint\n",
    "ckpt = tf.compat.v2.train.Checkpoint(model=fish_model)\n",
    "ckpt.restore(os.path.join(paths['CHECKPOINT_PATH'], 'ckpt-1')).expect_partial()\n",
    "\n",
    "@tf.function\n",
    "def detect_fn(image):\n",
    "    image, shapes = fish_model.preprocess(image)\n",
    "    prediction_dict = fish_model.predict(image, shapes)\n",
    "    detections = fish_model.postprocess(prediction_dict, shapes)\n",
    "    return detections"
   ]
  },
  {
   "cell_type": "code",
   "execution_count": null,
   "metadata": {
    "pycharm": {
     "name": "#%%\n"
    }
   },
   "outputs": [],
   "source": [
    "import cv2\n",
    "import numpy as np\n",
    "from matplotlib import pyplot as plt\n",
    "%matplotlib inline"
   ]
  },
  {
   "cell_type": "code",
   "execution_count": null,
   "metadata": {
    "pycharm": {
     "name": "#%%\n"
    }
   },
   "outputs": [],
   "source": [
    "category_index = label_map_util.create_category_index_from_labelmap(files['LABELMAP'])"
   ]
  },
  {
   "cell_type": "code",
   "execution_count": null,
   "metadata": {
    "pycharm": {
     "name": "#%%\n"
    }
   },
   "outputs": [],
   "source": [
    "import modules.prepare_images as reshape\n",
    "img_100 = reshape.resizing_image_squared(os.path.join('fish_images','training_images','brugbar_makrel.jpg'),100)\n",
    "img = cv2.imread(img_100)\n",
    "image_np = np.array(img)\n",
    "\n",
    "input_tensor = tf.convert_to_tensor(np.expand_dims(image_np, 0), dtype=tf.float32)\n",
    "detections = detect_fn(input_tensor)\n",
    "\n",
    "num_detections = int(detections.pop('num_detections'))\n",
    "detections = {key: value[0, :num_detections].numpy()\n",
    "              for key, value in detections.items()}\n",
    "detections['num_detections'] = num_detections\n",
    "\n",
    "# detection_classes should be ints.\n",
    "detections['detection_classes'] = detections['detection_classes'].astype(np.int64)\n",
    "\n",
    "label_id_offset = 1\n",
    "image_np_with_detections = image_np.copy()\n",
    "\n",
    "viz_utils.visualize_boxes_and_labels_on_image_array(\n",
    "    image_np_with_detections,\n",
    "    detections['detection_boxes'],\n",
    "    detections['detection_classes']+label_id_offset,\n",
    "    detections['detection_scores'],\n",
    "    category_index,\n",
    "    use_normalized_coordinates=True,\n",
    "    max_boxes_to_draw=5,\n",
    "    min_score_thresh=.8,\n",
    "    agnostic_mode=False)\n",
    "\n",
    "plt.imshow(cv2.cvtColor(image_np_with_detections, cv2.COLOR_BGR2RGB))\n",
    "plt.show()\n"
   ]
  },
  {
   "cell_type": "code",
   "execution_count": null,
   "metadata": {
    "pycharm": {
     "name": "#%%\n"
    }
   },
   "outputs": [],
   "source": [
    "cap = cv2.VideoCapture(0)\n",
    "width = int(cap.get(cv2.CAP_PROP_FRAME_WIDTH))\n",
    "height = int(cap.get(cv2.CAP_PROP_FRAME_HEIGHT))\n",
    "\n",
    "while cap.isOpened():\n",
    "    ret, frame = cap.read()\n",
    "    image_np = np.array(frame)\n",
    "\n",
    "    input_tensor = tf.convert_to_tensor(np.expand_dims(image_np, 0), dtype=tf.float32)\n",
    "    detections = detect_fn(input_tensor)\n",
    "\n",
    "    num_detections = int(detections.pop('num_detections'))\n",
    "    detections = {key: value[0, :num_detections].numpy()\n",
    "                  for key, value in detections.items()}\n",
    "    detections['num_detections'] = num_detections\n",
    "\n",
    "    # detection_classes should be ints.\n",
    "    detections['detection_classes'] = detections['detection_classes'].astype(np.int64)\n",
    "\n",
    "    label_id_offset = 1\n",
    "    image_np_with_detections = image_np.copy()\n",
    "\n",
    "    viz_utils.visualize_boxes_and_labels_on_image_array(\n",
    "        image_np_with_detections,\n",
    "        detections['detection_boxes'],\n",
    "        detections['detection_classes']+label_id_offset,\n",
    "        detections['detection_scores'],\n",
    "        category_index,\n",
    "        use_normalized_coordinates=True,\n",
    "        max_boxes_to_draw=5,\n",
    "        min_score_thresh=.8,\n",
    "        agnostic_mode=False)\n",
    "\n",
    "    cv2.imshow('object detection',  cv2.resize(image_np_with_detections, (800, 600)))\n",
    "\n",
    "    if cv2.waitKey(10) & 0xFF == ord('q'):\n",
    "        cap.release()\n",
    "        cv2.destroyAllWindows()\n",
    "        break"
   ]
  }
 ],
 "metadata": {
  "interpreter": {
   "hash": "2a9f36fe1f10f3ed60118942f73e2a76d1614c4e6c0e15697e2626bb8b68a95e"
  },
  "kernelspec": {
   "display_name": "Python 3 (ipykernel)",
   "language": "python",
   "name": "python3"
  },
  "language_info": {
   "codemirror_mode": {
    "name": "ipython",
    "version": 3
   },
   "file_extension": ".py",
   "mimetype": "text/x-python",
   "name": "python",
   "nbconvert_exporter": "python",
   "pygments_lexer": "ipython3",
   "version": "3.9.12"
  }
 },
 "nbformat": 4,
 "nbformat_minor": 4
}
